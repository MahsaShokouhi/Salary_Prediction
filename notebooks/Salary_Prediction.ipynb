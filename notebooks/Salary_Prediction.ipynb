{
 "cells": [
  {
   "cell_type": "markdown",
   "metadata": {},
   "source": [
    "# Salary Prediction Based on Job Descriptions\n"
   ]
  },
  {
   "cell_type": "code",
   "execution_count": null,
   "metadata": {},
   "outputs": [],
   "source": [
    "'''\n",
    " This script uses salary data from a train set, builds and evalutes several \n",
    " predictive models, and  uses the best model to predict salary on test data. \n",
    "'''\n",
    "__author__ = \"Mahsa Shokouhi\"\n",
    "__email__ = \"mahsa_shokouhi@yahoo.com\""
   ]
  },
  {
   "cell_type": "markdown",
   "metadata": {},
   "source": [
    "## Import Packages"
   ]
  },
  {
   "cell_type": "code",
   "execution_count": null,
   "metadata": {},
   "outputs": [],
   "source": [
    "import pandas as pd\n",
    "import numpy as np\n",
    "import matplotlib.pyplot as plt\n",
    "import seaborn as sns\n",
    "\n",
    "from sklearn.metrics import mean_squared_error\n",
    "from sklearn.model_selection import cross_val_score\n",
    "from sklearn.linear_model import LinearRegression\n",
    "from sklearn.ensemble import RandomForestRegressor, GradientBoostingRegressor\n",
    "from sklearn.pipeline import make_pipeline\n",
    "from sklearn.decomposition import PCA\n",
    "from sklearn import preprocessing\n",
    "from sklearn.preprocessing import StandardScaler, PolynomialFeatures\n",
    "\n",
    "\n",
    "%matplotlib inline"
   ]
  },
  {
   "cell_type": "markdown",
   "metadata": {},
   "source": [
    "##  Define Functions"
   ]
  },
  {
   "cell_type": "code",
   "execution_count": null,
   "metadata": {},
   "outputs": [],
   "source": [
    "def clean_data(df):\n",
    "    df.drop(['companyId'], axis=1, inplace=True)\n",
    "    df.drop_duplicates(subset='jobId', inplace=True)  # remove duplicates\n",
    "    df.drop(['jobId'], axis=1, inplace=True)\n",
    "\n",
    "\n",
    "def valid_salary(df):\n",
    "    return df[df['salary'] > 0]  # remove invalid values for salary\n",
    "\n",
    "\n",
    "def encode_categoricals(features_df, le=True):\n",
    "    '''\n",
    "    Encode Categorical Features. Use label-encoding for tree-based models, \n",
    "    and one-hot encoding for linear models.\n",
    "    '''\n",
    "    numeric_features = features_df.select_dtypes(exclude=['object'])\n",
    "    categorical_features = features_df.select_dtypes(include=['object'])\n",
    "\n",
    "    if le:  # label encoding\n",
    "        encoder = preprocessing.LabelEncoder()\n",
    "        categorical_features = categorical_features.apply(\n",
    "            encoder.fit_transform)\n",
    "    else:  # one-hot encoding\n",
    "        categorical_features = pd.get_dummies(features_df, drop_first=True)\n",
    "\n",
    "    return pd.concat([numeric_features, categorical_features], axis=1)\n",
    "\n",
    "\n",
    "def EDA_Visualize(df):\n",
    "    ''' Create plots for Exploratory Data Analysis '''\n",
    "    # Define plot settings\n",
    "    plt.rcParams['axes.labelsize'] = 16\n",
    "    plt.rcParams['xtick.labelsize'] = 14\n",
    "    plt.rcParams['ytick.labelsize'] = 14\n",
    "\n",
    "    # Distribution of numerical variables\n",
    "    df.hist(figsize=(12, 3), layout=(1, 3), bins=20)\n",
    "    plt.suptitle('Distribution of numerical variables', y=1.2, fontsize=20)\n",
    "\n",
    "    # Salary vs years' experience for each job type\n",
    "    sns.lmplot(x='yearsExperience', y='salary',\n",
    "               data=df.sort_values(['salary'], ascending=False), fit_reg=False,\n",
    "               hue='jobType', aspect=0.8, height=10, palette=\"Set1\")\n",
    "    plt.title('Changes in salary with years of experience for each job type',\n",
    "              y=1.2, fontsize=20)\n",
    "\n",
    "    # Salary by job type and industry\n",
    "    plt.figure(figsize=(15, 5))\n",
    "    sns.barplot(x='jobType', y='salary', hue='industry',\n",
    "                data=df.sort_values(['salary'], ascending=False))\n",
    "    plt.legend(loc='upper left', bbox_to_anchor=(1.05, 1))\n",
    "    plt.title('Salary for each industry', y=1.2, fontsize=20)\n",
    "\n",
    "    # Salary by job type and major\n",
    "    plt.figure(figsize=(15, 5))\n",
    "    sns.barplot(x='jobType', y='salary', hue='major',\n",
    "                data=df.sort_values(['salary'], ascending=False))\n",
    "    plt.legend(loc='upper left', bbox_to_anchor=(1.05, 1))\n",
    "    plt.title('Salary for each major', y=1.2, fontsize=20)\n",
    "\n",
    "\n",
    "def linear_models_():\n",
    "    ''' Create linear models '''\n",
    "    lr = make_pipeline(StandardScaler(), PCA(), LinearRegression())\n",
    "    lr_interaction = make_pipeline(StandardScaler(),\n",
    "                                   PolynomialFeatures(interaction_only=True),\n",
    "                                   PCA(), LinearRegression())\n",
    "    return lr, lr_interaction\n",
    "\n",
    "\n",
    "def tree_models_():\n",
    "    ''' Create tree-based models '''\n",
    "    rf = RandomForestRegressor(n_estimators=200, max_depth=15)\n",
    "    gb = GradientBoostingRegressor(n_estimators=200, max_depth=5)\n",
    "    return rf, gb\n",
    "\n",
    "\n",
    "def validate_models(x_train, y_train, models, k_cv=5,\n",
    "                    score='neg_mean_squared_error'):\n",
    "    ''' Cross-validation for evaluating and comparing models '''\n",
    "    mse_mean = []\n",
    "    mse_stdev = []\n",
    "    for model in models:\n",
    "        crossval = cross_val_score(model, x_train, y_train, cv=k_cv,\n",
    "                                   scoring=score)\n",
    "        mse_mean.append(-1.0*crossval.mean())\n",
    "        mse_stdev.append(crossval.std())\n",
    "    return mse_mean, mse_stdev\n",
    "\n",
    "\n",
    "def validation_summary(model, mse_mean, mse_stdev):\n",
    "    ''' Print a summary of models evaluation results '''\n",
    "    print('Model:\\n', model)\n",
    "    print()\n",
    "    print('Mean Squared Error: Average = {:.2f} , Standard deviation = {:.2f}'.format(\n",
    "        mse_mean, mse_stdev), '\\n\\n')"
   ]
  },
  {
   "cell_type": "markdown",
   "metadata": {},
   "source": [
    "## Load the datasets"
   ]
  },
  {
   "cell_type": "code",
   "execution_count": null,
   "metadata": {},
   "outputs": [],
   "source": [
    "train_features = pd.read_csv('data/train_features.csv', header=0)\n",
    "target = pd.read_csv('data/train_salaries.csv')\n",
    "test_features = pd.read_csv('data/test_features.csv')\n",
    "\n",
    "train = pd.merge(train_features, target, how='inner',\n",
    "                 left_on='jobId', right_on='jobId')"
   ]
  },
  {
   "cell_type": "markdown",
   "metadata": {},
   "source": [
    "## Clean the data"
   ]
  },
  {
   "cell_type": "code",
   "execution_count": null,
   "metadata": {},
   "outputs": [],
   "source": [
    "clean_data(train)\n",
    "clean_data(test_features)\n",
    "train = valid_salary(train)\n",
    "\n",
    "print(train.shape, test_features.shape)"
   ]
  },
  {
   "cell_type": "markdown",
   "metadata": {},
   "source": [
    "## Exploratory Data Analysis"
   ]
  },
  {
   "cell_type": "code",
   "execution_count": null,
   "metadata": {},
   "outputs": [],
   "source": [
    "EDA_Visualize(train)"
   ]
  },
  {
   "cell_type": "code",
   "execution_count": null,
   "metadata": {},
   "outputs": [],
   "source": [
    "# Summary statistics\n",
    "print(train.select_dtypes(include=['object']).describe())\n",
    "print('\\n')\n",
    "print(train.describe())"
   ]
  },
  {
   "cell_type": "markdown",
   "metadata": {},
   "source": [
    "## Establish a baseline : \n",
    "#### Predicting the salary based on average salary for the industry and jobType"
   ]
  },
  {
   "cell_type": "code",
   "execution_count": null,
   "metadata": {},
   "outputs": [],
   "source": [
    "# Baseline predicts: salary = averageSalary for the industry and jobType\n",
    "BL_model = train.copy()\n",
    "BL_model['predictedSalary'] = BL_model.groupby(['industry', 'jobType'])[\n",
    "    'salary'].transform('mean')\n",
    "\n",
    "print(BL_model.head())\n",
    "\n",
    "mse_BL_model = mean_squared_error(BL_model['salary'],\n",
    "                                  BL_model['predictedSalary'])\n",
    "print('\\n\\nThe mean squared error of predicted salary  is: ', mse_BL_model)"
   ]
  },
  {
   "cell_type": "markdown",
   "metadata": {},
   "source": [
    "## Encode Categorical Variables"
   ]
  },
  {
   "cell_type": "code",
   "execution_count": null,
   "metadata": {},
   "outputs": [],
   "source": [
    "features = train.drop(['salary'], axis=1)\n",
    "\n",
    "# One-hot encode to be used for linear models\n",
    "train_linear = encode_categoricals(features, le=False)\n",
    "# Label encoding to be used in tree-based methods\n",
    "train_tree = encode_categoricals(features, le=True)"
   ]
  },
  {
   "cell_type": "code",
   "execution_count": null,
   "metadata": {},
   "outputs": [],
   "source": [
    "# Correlation plot\n",
    "plt.figure(figsize=(15, 10))\n",
    "sns.heatmap(train_linear.corr(), xticklabels=train_linear.columns,\n",
    "            yticklabels=train_linear.columns, cmap=\"RdBu_r\")\n",
    "plt.title('Correlation between variables', fontsize=20)"
   ]
  },
  {
   "cell_type": "markdown",
   "metadata": {},
   "source": [
    "## Create and Validate Models"
   ]
  },
  {
   "cell_type": "code",
   "execution_count": null,
   "metadata": {},
   "outputs": [],
   "source": [
    "# Cross-validation for linear models\n",
    "lm_models = linear_models_()\n",
    "mse_mean_lr, mse_stdev_lr = validate_models(\n",
    "    train_linear, train.salary, lm_models)\n",
    "\n",
    "# Cross-validation for tree-based models\n",
    "tree_models = tree_models_()\n",
    "mse_mean_tree, mse_stdev_tree = validate_models(\n",
    "    train_tree, train.salary, tree_models)"
   ]
  },
  {
   "cell_type": "code",
   "execution_count": null,
   "metadata": {},
   "outputs": [],
   "source": [
    "models = lm_models + tree_models\n",
    "mse_means = mse_mean_lr + mse_mean_tree\n",
    "mse_stdevs = mse_stdev_lr + mse_stdev_tree\n",
    "\n",
    "for i in range(len(models)):\n",
    "    validation_summary(models[i], mse_means[i], mse_stdevs[i])"
   ]
  },
  {
   "cell_type": "markdown",
   "metadata": {},
   "source": [
    "## Select the Best Model and Predict on Test Set\n"
   ]
  },
  {
   "cell_type": "code",
   "execution_count": null,
   "metadata": {},
   "outputs": [],
   "source": [
    "idx = np.argmin(mse_means)  # index of the model with minimum mse\n",
    "models[idx]  # Best model"
   ]
  },
  {
   "cell_type": "code",
   "execution_count": null,
   "metadata": {},
   "outputs": [],
   "source": [
    "# Use gradient boosting for test set (with similar results to the best model)\n",
    "selected_model = models[-1]\n",
    "\n",
    "test = encode_categoricals(test_features, le=True)  # for tree-based model\n",
    "selected_model.fit(train_tree, train.salary)\n",
    "\n",
    "predictions = selected_model.predict(test)"
   ]
  },
  {
   "cell_type": "code",
   "execution_count": null,
   "metadata": {},
   "outputs": [],
   "source": [
    "# Get Feature Importances\n",
    "importances = selected_model.feature_importances_\n",
    "\n",
    "feature_importance_df = pd.DataFrame(\n",
    "    importances, columns=['Feature Importance'], index=test.columns)\n",
    "\n",
    "feature_importance_df.sort_values(\n",
    "    by='Feature Importance', ascending=False, inplace=True)\n",
    "\n",
    "# Feature importance plot\n",
    "sns.set(style=\"whitegrid\")\n",
    "f, ax = plt.subplots(figsize=(12, 8))\n",
    "sns.barplot(x='Feature Importance', y=feature_importance_df.index,\n",
    "            data=feature_importance_df, color=\"b\")"
   ]
  },
  {
   "cell_type": "code",
   "execution_count": null,
   "metadata": {},
   "outputs": [],
   "source": [
    "# Save results\n",
    "with open('model.txt', 'w') as file:\n",
    "    file.write(str(selected_model))\n",
    "\n",
    "\n",
    "np.savetxt('predictions.csv', predictions, delimiter=',')\n",
    "\n",
    "feature_importance_df.to_csv('feature_importance.csv')"
   ]
  }
 ],
 "metadata": {
  "kernelspec": {
   "display_name": "Python 3",
   "language": "python",
   "name": "python3"
  },
  "language_info": {
   "codemirror_mode": {
    "name": "ipython",
    "version": 3
   },
   "file_extension": ".py",
   "mimetype": "text/x-python",
   "name": "python",
   "nbconvert_exporter": "python",
   "pygments_lexer": "ipython3",
   "version": "3.7.7"
  },
  "toc": {
   "base_numbering": 1,
   "nav_menu": {},
   "number_sections": true,
   "sideBar": true,
   "skip_h1_title": false,
   "title_cell": "Table of Contents",
   "title_sidebar": "Contents",
   "toc_cell": false,
   "toc_position": {},
   "toc_section_display": true,
   "toc_window_display": false
  },
  "varInspector": {
   "cols": {
    "lenName": 16,
    "lenType": 16,
    "lenVar": 40
   },
   "kernels_config": {
    "python": {
     "delete_cmd_postfix": "",
     "delete_cmd_prefix": "del ",
     "library": "var_list.py",
     "varRefreshCmd": "print(var_dic_list())"
    },
    "r": {
     "delete_cmd_postfix": ") ",
     "delete_cmd_prefix": "rm(",
     "library": "var_list.r",
     "varRefreshCmd": "cat(var_dic_list()) "
    }
   },
   "types_to_exclude": [
    "module",
    "function",
    "builtin_function_or_method",
    "instance",
    "_Feature"
   ],
   "window_display": false
  }
 },
 "nbformat": 4,
 "nbformat_minor": 2
}
